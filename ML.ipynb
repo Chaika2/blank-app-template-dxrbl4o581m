{
  "nbformat": 4,
  "nbformat_minor": 0,
  "metadata": {
    "colab": {
      "provenance": [],
      "mount_file_id": "1x3RI6hPyoLa0jvutDef90a9-jedTgXXv",
      "authorship_tag": "ABX9TyMMLKJGnkTNdBrhNJVE/OVX",
      "include_colab_link": true
    },
    "kernelspec": {
      "name": "python3",
      "display_name": "Python 3"
    },
    "language_info": {
      "name": "python"
    }
  },
  "cells": [
    {
      "cell_type": "markdown",
      "metadata": {
        "id": "view-in-github",
        "colab_type": "text"
      },
      "source": [
        "<a href=\"https://colab.research.google.com/github/Chaika2/blank-app-template-dxrbl4o581m/blob/main/ML.ipynb\" target=\"_parent\"><img src=\"https://colab.research.google.com/assets/colab-badge.svg\" alt=\"Open In Colab\"/></a>"
      ]
    },
    {
      "cell_type": "code",
      "execution_count": 1,
      "metadata": {
        "id": "28Ndp_Yurogd"
      },
      "outputs": [],
      "source": [
        "import tensorflow as tf\n",
        "import tensorflow.keras as keras"
      ]
    },
    {
      "cell_type": "code",
      "source": [
        "# test train splitting csv\n",
        "\n",
        "import pandas as pd\n",
        "\n",
        "df = pd.read_csv('/content/ML/train.csv')\n",
        "\n",
        "from sklearn.model_selection import train_test_split\n",
        "\n",
        "train_data, test_data = train_test_split(df, test_size=0.2, random_state=28)\n",
        "\n",
        "# val set\n",
        "test_data, val_data = train_test_split(test_data, test_size=0.4, random_state=42)"
      ],
      "metadata": {
        "id": "iU9ywQSX3VOc"
      },
      "execution_count": 2,
      "outputs": []
    },
    {
      "cell_type": "code",
      "source": [
        "#tfd\n",
        "# function to convert dataframe to dataset\n",
        "\n",
        "def df_dataset(dataframe, shuffle=True, batch_size = 32):\n",
        "    dataframe = dataframe.copy()\n",
        "    labels = dataframe.pop('label')\n",
        "    dataset = tf.data.Dataset.from_tensor_slices((dict(dataframe), labels))\n",
        "    if shuffle:\n",
        "        dataset = dataset.shuffle(buffer_size=len(dataframe))\n",
        "    dataset = dataset.batch(batch_size=batch_size)\n",
        "    dataset = dataset.prefetch(buffer_size=tf.data.AUTOTUNE)\n",
        "\n",
        "    return dataset\n",
        "\n",
        "train_dataset = df_dataset(train_data)\n",
        "test_dataset = df_dataset(test_data, shuffle=False)\n",
        "\n",
        "# creating an image dataset from value dataset\n",
        "\n",
        "# dataset and dimensions\n",
        "pixels = [ f'pixel{i}' for i in range(784) ]\n",
        "\n",
        "columns = pixels +['label']\n",
        "\n",
        "# preprocess\n",
        "\n",
        "def preproc_fn(features, label):\n",
        "\n",
        "    # extract pixel values\n",
        "    img_pixels = [features[col] for col in pixels]\n",
        "\n",
        "    # stack the pixels\n",
        "    img_pixels = tf.stack(img_pixels, axis = 1)\n",
        "\n",
        "    # reshape to 28*28\n",
        "    img_pixels = tf.reshape(img_pixels, shape=[-1,28,28,1])\n",
        "\n",
        "    # normalize\n",
        "    img_pixels = tf.cast(img_pixels, tf.float32) / 255.0\n",
        "\n",
        "    return img_pixels, label\n",
        "\n",
        "\n",
        "test_dataset = test_dataset.map(preproc_fn)\n",
        "train_dataset = train_dataset.map(preproc_fn)\n",
        "\n",
        "# Debug function to print shapes\n",
        "def print_shapes(features, label):\n",
        "    tf.print(\"Features shape:\", tf.shape(features))\n",
        "    tf.print(\"Label shape:\", tf.shape(label))\n",
        "    return features, label"
      ],
      "metadata": {
        "id": "kFd-cCHaQrP0"
      },
      "execution_count": 3,
      "outputs": []
    },
    {
      "cell_type": "code",
      "source": [
        "# normal d\n",
        "\n",
        "Y_train = train_data.pop('label')\n",
        "Y_train = Y_train.astype(int)\n",
        "\n",
        "X_train = train_data.astype(float)\n",
        "X_train = X_train/255.0\n",
        "X_train = X_train.values.reshape(-1,28,28,1)\n",
        "\n",
        "Y_val = val_data.pop('label')\n",
        "X_val = val_data.astype(float).values.reshape(-1,28,28,1)/255.0\n",
        "Y_val = Y_val.astype(int)\n",
        "\n",
        "Y_test = test_data.pop('label')\n",
        "X_test = test_data.astype(float).values.reshape(-1,28,28,1)\n",
        "Y_test = Y_test.astype(int)"
      ],
      "metadata": {
        "id": "3e0VpW4US09W"
      },
      "execution_count": 4,
      "outputs": []
    },
    {
      "cell_type": "code",
      "source": [
        "# used 32 filters ,64\n",
        "\n",
        "model = keras.Sequential([keras.layers.InputLayer(input_shape= (28,28, 1)),\n",
        "                          keras.layers.Conv2D(32,kernel_size=(6,6), activation ='relu', padding='same'),\n",
        "                          keras.layers.MaxPooling2D(pool_size=(2,2)),\n",
        "                          keras.layers.Dropout(.25),\n",
        "                          keras.layers.Conv2D(32,kernel_size=(6,6), activation ='relu', padding='same'),\n",
        "                          keras.layers.MaxPooling2D(pool_size=(2,2)),\n",
        "                          keras.layers.Dropout(.3),\n",
        "                          keras.layers.Conv2D(64,kernel_size=(3,3), activation ='relu', padding='same'),\n",
        "                          keras.layers.MaxPooling2D(pool_size=(2,2)),\n",
        "                          keras.layers.Dropout(.25),\n",
        "                          keras.layers.Conv2D(64,kernel_size=(3,3), activation ='relu', padding='same'),\n",
        "                          keras.layers.MaxPooling2D(pool_size=(2,2)),\n",
        "                          keras.layers.Dropout(.33),\n",
        "                          keras.layers.Flatten(),\n",
        "                          keras.layers.Dense(256, activation='relu'),\n",
        "                          keras.layers.Dropout(.5),\n",
        "                          keras.layers.Dense(10, activation='softmax')])\n",
        "\n",
        "model.compile(optimizer='adam', loss= 'sparse_categorical_crossentropy', metrics=['accuracy'])"
      ],
      "metadata": {
        "id": "W3caLJKYS4T4"
      },
      "execution_count": 5,
      "outputs": []
    },
    {
      "cell_type": "code",
      "source": [
        "Lrreducer = keras.callbacks.ReduceLROnPlateau(monitor= 'val_accuracy',\n",
        "                                              factor = 0.5,\n",
        "                                              mode= 'auto',\n",
        "                                              min_delta = 0.00001,\n",
        "                                              patience = 2,\n",
        "                                              verbose=1,\n",
        "                                              min_lr = 0.00001)"
      ],
      "metadata": {
        "id": "9KIlC3gUS9rq"
      },
      "execution_count": 6,
      "outputs": []
    },
    {
      "cell_type": "code",
      "source": [
        "Imagegen = keras.preprocessing.image.ImageDataGenerator(rotation_range=10,\n",
        "                                                        width_shift_range=0.1,\n",
        "                                                        height_shift_range=0.1,\n",
        "                                                        zoom_range=0.1)\n",
        "\n",
        "Imagegen.fit(X_train)"
      ],
      "metadata": {
        "id": "1yVPi3_ZTAg7"
      },
      "execution_count": 7,
      "outputs": []
    },
    {
      "cell_type": "code",
      "source": [
        "model.fit(Imagegen.flow(X_train, Y_train, batch_size=32),\n",
        "          validation_data = (X_val, Y_val),\n",
        "          callbacks = Lrreducer,\n",
        "          verbose= 2,\n",
        "          steps_per_epoch = X_train.shape[0],\n",
        "          epochs = 2)"
      ],
      "metadata": {
        "colab": {
          "base_uri": "https://localhost:8080/"
        },
        "id": "CybSvGxtTEF_",
        "outputId": "550d2792-670b-4d3f-cace-791ae011cd48"
      },
      "execution_count": 8,
      "outputs": [
        {
          "output_type": "stream",
          "name": "stdout",
          "text": [
            "Epoch 1/2\n"
          ]
        },
        {
          "output_type": "stream",
          "name": "stderr",
          "text": [
            "WARNING:tensorflow:Your input ran out of data; interrupting training. Make sure that your dataset or generator can generate at least `steps_per_epoch * epochs` batches (in this case, 67200 batches). You may need to use the repeat() function when building your dataset.\n"
          ]
        },
        {
          "output_type": "stream",
          "name": "stdout",
          "text": [
            "33600/33600 - 96s - loss: 0.7657 - accuracy: 0.7392 - val_loss: 0.0929 - val_accuracy: 0.9699 - lr: 0.0010 - 96s/epoch - 3ms/step\n"
          ]
        },
        {
          "output_type": "execute_result",
          "data": {
            "text/plain": [
              "<keras.src.callbacks.History at 0x7cbc397c6ad0>"
            ]
          },
          "metadata": {},
          "execution_count": 8
        }
      ]
    },
    {
      "cell_type": "code",
      "source": [
        "# Evaluate the model on the test dataset\n",
        "test_loss, test_acc= model.evaluate(X_test, Y_test)\n",
        "print(f\"Test Accuracy: {test_acc},Test Loss: {test_loss}\")"
      ],
      "metadata": {
        "colab": {
          "base_uri": "https://localhost:8080/"
        },
        "id": "31S4MnrpThkK",
        "outputId": "7ab8e21a-9d40-49e0-bdeb-23aa35c846ff"
      },
      "execution_count": 9,
      "outputs": [
        {
          "output_type": "stream",
          "name": "stdout",
          "text": [
            "158/158 [==============================] - 3s 20ms/step - loss: 17.5969 - accuracy: 0.9714\n",
            "Test Accuracy: 0.9714285731315613,Test Loss: 17.596925735473633\n"
          ]
        }
      ]
    },
    {
      "cell_type": "code",
      "source": [
        "#tfd\n",
        "# plotting actual with predicted along with images\n",
        "\n",
        "import matplotlib.pyplot as plt\n",
        "\n",
        "# Function to plot images with their predicted and actual labels\n",
        "def plot_images(images, labels, predictions):\n",
        "    plt.figure(figsize=(10, 10))\n",
        "    for i in range(10):\n",
        "        plt.subplot(4, 3, i+1)\n",
        "        plt.xticks([])\n",
        "        plt.yticks([])\n",
        "        plt.grid(False)\n",
        "        plt.imshow(images[i].numpy().reshape(28, 28), cmap=plt.cm.binary)\n",
        "        plt.xlabel(f\"Actual: {labels[i]}, Predicted: {predictions[i]}\")\n",
        "    plt.show()\n",
        "\n",
        "# Visualize a batch of test images with their predictions\n",
        "for images, labels in test_dataset.take(1):\n",
        "    predictions = model.predict(images)\n",
        "    predicted_labels = tf.argmax(predictions, axis=1)\n",
        "    plot_images(images, labels, predicted_labels)"
      ],
      "metadata": {
        "colab": {
          "base_uri": "https://localhost:8080/",
          "height": 843
        },
        "id": "m913sSxdTm3j",
        "outputId": "93dd5cac-43d3-4a08-8601-9ad743c52f54"
      },
      "execution_count": 11,
      "outputs": [
        {
          "output_type": "stream",
          "name": "stdout",
          "text": [
            "1/1 [==============================] - 0s 57ms/step\n"
          ]
        },
        {
          "output_type": "display_data",
          "data": {
            "text/plain": [
              "<Figure size 1000x1000 with 10 Axes>"
            ],
            "image/png": "[encoded data removed]"
          },
          "metadata": {}
        }
      ]
    },
    {
      "cell_type": "code",
      "source": [
        "#making a submission predictions\n",
        "\n",
        "predict_dataset = tf.data.experimental.make_csv_dataset('/content/ML/test.csv',\n",
        "                                                        batch_size=32,\n",
        "                                                        shuffle=False,\n",
        "                                                        num_epochs=1,\n",
        "                                                        column_names=pixels)"
      ],
      "metadata": {
        "id": "u9qVmqdWTxOQ"
      },
      "execution_count": 12,
      "outputs": []
    },
    {
      "cell_type": "code",
      "source": [
        "# preprocess to images\n",
        "\n",
        "def preproc_fn2(features):\n",
        "\n",
        "    # extract pixel values\n",
        "    img_pixels = [features[col] for col in pixels]\n",
        "\n",
        "    # stack the pixels\n",
        "    img_pixels = tf.stack(img_pixels, axis = 1)\n",
        "\n",
        "    # reshape to 28*28\n",
        "    img_pixels = tf.reshape(img_pixels, shape=[-1,28,28,1])\n",
        "\n",
        "    # normalize\n",
        "    img_pixels = tf.cast(img_pixels, tf.float32) / 255.0\n",
        "\n",
        "    return img_pixels\n",
        "\n",
        "predict_dataset = predict_dataset.map(preproc_fn2)\n",
        "\n",
        "# def print_shapes2(features):\n",
        "#     tf.print(\"Features shape:\", tf.shape(features))\n",
        "#     return features\n",
        "\n",
        "\n",
        "# predict_dataset = predict_dataset.map(print_shapes2)\n",
        "\n",
        "predict_dataset = predict_dataset.prefetch(buffer_size=tf.data.AUTOTUNE)"
      ],
      "metadata": {
        "id": "Njb3cNKzT9iL"
      },
      "execution_count": 13,
      "outputs": []
    },
    {
      "cell_type": "code",
      "source": [
        "# plotting submission predictions along with images (first 9)\n",
        "def plot_images(images, predictions):\n",
        "    plt.figure(figsize=(10, 10))\n",
        "    for i in range(9):\n",
        "        plt.subplot(3, 3, i+1)\n",
        "        plt.xticks([])\n",
        "        plt.yticks([])\n",
        "        plt.grid(False)\n",
        "        plt.imshow(images[i].numpy().reshape(28, 28), cmap=plt.cm.binary)\n",
        "        plt.xlabel(f\"Predicted: {predictions[i]}\")\n",
        "    plt.show()\n",
        "\n",
        "\n",
        "for images in predict_dataset.take(1):\n",
        "    predictions = model.predict(images)\n",
        "    predicted_labels = tf.argmax(predictions, axis=1)\n",
        "    plot_images(images, predicted_labels)"
      ],
      "metadata": {
        "colab": {
          "base_uri": "https://localhost:8080/",
          "height": 843
        },
        "id": "DEqSXzEqUAbZ",
        "outputId": "83424190-71b2-409b-e48a-73ef9fa48d50"
      },
      "execution_count": 16,
      "outputs": [
        {
          "output_type": "stream",
          "name": "stdout",
          "text": [
            "1/1 [==============================] - 0s 41ms/step\n"
          ]
        },
        {
          "output_type": "display_data",
          "data": {
            "text/plain": [
              "<Figure size 1000x1000 with 9 Axes>"
            ],
            "image/png": "[encoded data removed]"
          },
          "metadata": {}
        }
      ]
    },
    {
      "cell_type": "code",
      "source": [
        "predictions = model.predict(predict_dataset)\n",
        "predicted_labels = tf.argmax(predictions, axis=1)"
      ],
      "metadata": {
        "colab": {
          "base_uri": "https://localhost:8080/"
        },
        "id": "25poWTw7UNKc",
        "outputId": "4884e0f3-5283-49c0-d38e-2203c15ae612"
      },
      "execution_count": 17,
      "outputs": [
        {
          "output_type": "stream",
          "name": "stdout",
          "text": [
            "875/875 [==============================] - 41s 43ms/step\n"
          ]
        }
      ]
    },
    {
      "cell_type": "code",
      "source": [
        "# getting submission file\n",
        "df = pd.DataFrame({'ImageId': range(1,len(predicted_labels)+1), 'Label':predicted_labels})\n",
        "\n",
        "df.to_csv('submission.csv', index=False)"
      ],
      "metadata": {
        "id": "LEd5v_n1UaPj"
      },
      "execution_count": 18,
      "outputs": []
    }
  ]
}